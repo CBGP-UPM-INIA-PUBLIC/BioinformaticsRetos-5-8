{
 "cells": [
  {
   "cell_type": "markdown",
   "metadata": {},
   "source": [
    "# Linked Data\n",
    "\n",
    "Switch to the slide deck on [Google Slides](https://docs.google.com/presentation/d/1STNxE0C_1XPFYw4WKs2UoCPzN44vRKT83VU4zQC0Wvc/)\n",
    "\n",
    "<pre>\n",
    "\n",
    "\n",
    "</pre>\n",
    "\n",
    "\n",
    "We are now using the **SPARQL Kernel for Jupyter Notebooks**.  [Look at the documentation](https://github.com/paulovn/sparql-kernel) to understand the \"magic instructions\" ('%')\n",
    "\n",
    "<pre>\n",
    "\n",
    "\n",
    "</pre>\n",
    "\n"
   ]
  },
  {
   "cell_type": "code",
   "execution_count": null,
   "metadata": {},
   "outputs": [],
   "source": [
    "%endpoint https://sparql.uniprot.org/sparql\n",
    "%format JSON\n",
    "\n",
    "\n",
    "PREFIX up:<http://purl.uniprot.org/core/> \n",
    "PREFIX foaf:<http://xmlns.com/foaf/0.1/>\n",
    "PREFIX ids:  <http://purl.uniprot.org/uniprot/>\n",
    "\n",
    "SELECT ?enzyme ?label\n",
    "\n",
    "WHERE {  \n",
    "     \n",
    "    ids:A0B137 <http://purl.uniprot.org/core/enzyme> ?enzyme .\n",
    "    ?enzyme <http://www.w3.org/2004/02/skos/core#prefLabel> ?label\n",
    "         \n",
    "}\n"
   ]
  },
  {
   "cell_type": "code",
   "execution_count": null,
   "metadata": {},
   "outputs": [],
   "source": [
    "%endpoint https://sparql.uniprot.org/sparql\n",
    "%format JSON\n",
    "\n",
    "PREFIX up:<http://purl.uniprot.org/core/> \n",
    "PREFIX foaf:<http://xmlns.com/foaf/0.1/>\n",
    "\n",
    "SELECT ?name ?image\n",
    "WHERE {\n",
    "       ?taxon    foaf:depiction  ?image .\n",
    "       ?taxon    up:scientificName   ?name .\n",
    "       FILTER(CONTAINS(?name, \"Antirrhinum majus\"))\n",
    "} LIMIT 10\n"
   ]
  },
  {
   "cell_type": "code",
   "execution_count": null,
   "metadata": {},
   "outputs": [],
   "source": [
    "%endpoint http://fairdata.systems:8890/sparql\n",
    "%format JSON\n",
    "\n",
    "PREFIX up:<http://purl.uniprot.org/core/> \n",
    "PREFIX foaf:<http://xmlns.com/foaf/0.1/>\n",
    "\n",
    "SELECT distinct ?type\n",
    "WHERE {?s a ?type\n",
    "} "
   ]
  }
 ],
 "metadata": {
  "kernelspec": {
   "display_name": "SPARQL",
   "language": "sparql",
   "name": "sparql"
  },
  "language_info": {
   "codemirror_mode": {
    "name": "sparql"
   },
   "mimetype": "application/sparql-query",
   "name": "sparql",
   "pygments_lexer": "sparql-nb"
  }
 },
 "nbformat": 4,
 "nbformat_minor": 2
}
