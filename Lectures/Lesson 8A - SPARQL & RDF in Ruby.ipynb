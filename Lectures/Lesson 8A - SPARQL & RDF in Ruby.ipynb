{
 "cells": [
  {
   "cell_type": "markdown",
   "metadata": {},
   "source": [
    "# SPARQL in Ruby scripts\n",
    "\n",
    "Executing a SPARQL query in Ruby is extremely simple. It uses the [SPARQL client](http://www.rubydoc.info/github/ruby-rdf/sparql-client/frames) Ruby Gem, which uses [RDF::Query::Solutions](http://www.rubydoc.info/github/ruby-rdf/rdf/RDF/Query/Solutions)and the code is as follows:\n",
    "\n"
   ]
  },
  {
   "cell_type": "code",
   "execution_count": null,
   "metadata": {},
   "outputs": [],
   "source": [
    "\n",
    "require 'sparql/client'\n",
    "\n",
    "endpoint = \"http://sparql.uniprot.org/sparql\"  # what location are we querying?\n",
    "\n",
    "query = <<END\n",
    "PREFIX foaf:<http://xmlns.com/foaf/0.1/>\n",
    "\n",
    "SELECT ?name ?image                              # note that ?name and ?image becomes the Ruby symbol :name and :image\n",
    "WHERE {\n",
    "       ?taxon  <http://xmlns.com/foaf/0.1/depiction>  ?image .\n",
    "       ?taxon <http://purl.uniprot.org/core/scientificName> ?name .\n",
    "  FILTER regex(?name, '^Arabidopsis.*', 'i') .\n",
    "}\n",
    "END\n",
    "\n",
    "\n",
    "\n",
    "sparql = SPARQL::Client.new(endpoint)  # create a SPARQL client\n",
    "result = sparql.query(query)  # Execute query\n",
    "\n",
    "puts result.class   # RDF::Query::Solutions (array of RDF::Query::Solution;  responds to #each\n",
    "\n",
    "result.each do |solution|\n",
    "  puts \"Species #{solution[:name]}  is depicted by image #{solution[:image]}\"  # call the pairs of variables in our query\n",
    "end\n",
    "\n",
    "puts \"\""
   ]
  },
  {
   "cell_type": "markdown",
   "metadata": {},
   "source": [
    "\n",
    "### and that's really all there is to it!  Easy!\n",
    "\n",
    "<pre>\n",
    "\n",
    "\n",
    "</pre>\n",
    "\n"
   ]
  },
  {
   "cell_type": "markdown",
   "metadata": {},
   "source": [
    "# Loading, Creating and Writing RDF in Ruby\n",
    "\n",
    "Here we will use the [<code>rdf</code> ruby gem](http://ruby-rdf.github.io/rdf/) which is extremely easy to understand.  There are two ways to work with RDF in Ruby: \n",
    "\n",
    "### Method 1\n",
    "You can start with an RDF file (either locally or on the Web), and load it into a \"graph\" as follows:\n",
    "\n"
   ]
  },
  {
   "cell_type": "code",
   "execution_count": null,
   "metadata": {},
   "outputs": [],
   "source": [
    "require 'rdf'\n",
    "require 'rdf/ntriples'\n",
    "\n",
    "graph = RDF::Graph.load(\"http://ruby-rdf.github.com/rdf/etc/doap.nt\")\n",
    "puts graph.class  # RDF::Graph\n",
    "puts graph.size   # number of triples in the graph\n",
    "\n"
   ]
  },
  {
   "cell_type": "markdown",
   "metadata": {},
   "source": [
    "\n",
    "(note that we will ONLY use ntriples in this course - a more common RDF format is 'Turtle' but there are efficiencies we can gain by using ntriples format, so that is what we will use.  You can read the documentation for yourself to learn how to load other RDF formats...)\n",
    "\n",
    " - once we have loaded the data, we convert it into an RDF::Repository Object, and then use that exactly as we used the SPARQL endpoint in the example above:\n",
    " \n",
    " "
   ]
  },
  {
   "cell_type": "code",
   "execution_count": null,
   "metadata": {},
   "outputs": [],
   "source": [
    "require 'rdf'\n",
    "require 'sparql/client'\n",
    "require 'rdf/ntriples'\n",
    "require 'rdf/repository'\n",
    "\n",
    "\n",
    "graph = RDF::Graph.load(\"http://ruby-rdf.github.com/rdf/etc/doap.nt\")\n",
    "puts graph.class  # RDF::Graph\n",
    "puts graph.size   # number of triples in the graph\n",
    "\n",
    "\n",
    "\n",
    "\n",
    "repo = RDF::Repository.new   # a repository can be used as a SPARQL endpoint for SPARQL::Client\n",
    "repo.insert(*graph)   # the \"splat\" operator (*) - converts an array into a list of individual things\n",
    "                      # in this case, the individual triples in the RDF::Graph\n",
    "puts repo.count\n",
    "\n",
    "query = <<END\n",
    "PREFIX foaf:<http://xmlns.com/foaf/0.1/>\n",
    "\n",
    "SELECT ?name\n",
    "WHERE {\n",
    "       ?p a foaf:Person .\n",
    "       ?p foaf:name ?name\n",
    "}\n",
    "END\n",
    "\n",
    "sparql2 = SPARQL::Client.new(repo)    # Exactly the same as above...\n",
    "result = sparql2.query(query)  # Execute query\n",
    "\n",
    "result.each do |solution|\n",
    "  puts \"Database contains the person:  #{solution[:name]}\"  # call the pairs of variables in our query\n",
    "end\n",
    "\n",
    "puts \"\""
   ]
  },
  {
   "cell_type": "markdown",
   "metadata": {},
   "source": [
    "\n",
    "### Method 2\n",
    "Another way is to create the RDF _de novo_.  For this, we will again use the rdf Gem, and in particular, the [RDF::Statement](http://www.rubydoc.info/github/ruby-rdf/rdf/master/RDF/Statement) Class.\n",
    "\n",
    "It is useful to know some common ontologys for predicates:\n",
    "\n",
    "| Ontology | URL |\n",
    "| --- | --- |\n",
    "| Dublin Core | http://purl.org/dc/terms/ |\n",
    "| Friend of a Friend (FOAF) |  http://xmlns.com/foaf/0.1/knows |\n",
    "| RDF | http://www.w3.org/1999/02/22-rdf-syntax-ns |\n",
    "| RDF Schema (RDFS) | http://www.w3.org/2000/01/rdf-schema |\n",
    "| Web Ontology Language (OWL) | http://www.w3.org/2002/07/owl# |\n",
    "| XML Schema Datatypes (XSD) | http://www.w3.org/2001/XMLSchema# |\n",
    "\n",
    "(note that you can use ANY of the terms in those ontologies... for example DC.author or FOAF.name)\n",
    "\n",
    "\n",
    "Here is an example of the code:\n",
    "\n"
   ]
  },
  {
   "cell_type": "code",
   "execution_count": null,
   "metadata": {},
   "outputs": [],
   "source": [
    "require 'rdf'\n",
    "require 'sparql/client'\n",
    "require 'rdf/ntriples'\n",
    "require 'rdf/repository'\n",
    "\n",
    "\n",
    "repo = RDF::Repository.new   # a repository can be used as a SPARQL endpoint for SPARQL::Client\n",
    "\n",
    "# create the vocabularies I will use (this is optional, it just makes the code easier to read later)\n",
    "foaf = RDF::Vocabulary.new(\"http://xmlns.com/foaf/0.1/\")\n",
    "dc = RDF::Vocabulary.new(\"http://purl.org/dc/terms/\")\n",
    "rdf = RDF::Vocabulary.new(\"http://www.w3.org/1999/02/22-rdf-syntax-ns#\")\n",
    "\n",
    "# ---------------   READY!\n",
    "\n",
    "# create the Subject, Predicate, and Object of a triple\n",
    "s = RDF::URI.new(\"http://wilkinsonlab.info/Courses\")\n",
    "p = dc.creator   # some predicates are pre-defined by the rdf libraries...  see below\n",
    "o = RDF::URI.new(\"http://wilkinsonlab.info/#mark\")\n",
    "triple = RDF::Statement(s, p, o) # make a statement object (a triple)\n",
    "repo.insert(triple)  # add it to your repository\n",
    "\n",
    "\n",
    "# create the Subject, Predicate, and Object of the next triple\n",
    "s = RDF::URI.new(\"http://wilkinsonlab.info/#mark\")\n",
    "p = foaf.name\n",
    "o = RDF::Literal.new(\"Mark Wilkinson\")\n",
    "triple = RDF::Statement(s, p, o) # make a statement object (a triple)\n",
    "repo.insert(triple)  # add it to your repository\n",
    "\n",
    "\n",
    "# create the Subject, Predicate, and Object of the last triple\n",
    "s = RDF::URI.new(\"http://wilkinsonlab.info/#mark\")\n",
    "p = rdf.type\n",
    "o = foaf.Person\n",
    "triple = RDF::Statement(s, p, o) # make a statement object (a triple)\n",
    "repo.insert(triple)  # add it to your repository\n",
    "\n",
    "\n",
    "# and from here, it is exactly the same as before...\n",
    "\n",
    "query = <<END\n",
    "PREFIX foaf:<http://xmlns.com/foaf/0.1/>\n",
    "\n",
    "SELECT ?name\n",
    "WHERE {\n",
    "       ?p a foaf:Person .\n",
    "       ?p foaf:name ?name\n",
    "}\n",
    "END\n",
    "\n",
    "sparql2 = SPARQL::Client.new(repo)    # Exactly the same as above...\n",
    "result = sparql2.query(query)  # Execute query\n",
    "\n",
    "result.each do |solution|\n",
    "  puts \"Database contains the person:  #{solution[:name]}\"  # call the pairs of variables in our query\n",
    "end\n",
    "\n",
    "puts \"done\""
   ]
  },
  {
   "cell_type": "markdown",
   "metadata": {},
   "source": [
    "# Writing RDF to a file\n",
    "\n",
    "The final thing we need to do is export our beautiful RDF to a file so that it can be loaded into a database.  This is easy too:\n",
    "\n",
    "**(look in your Lectures/files/ folder to see the output...)**\n",
    "\n"
   ]
  },
  {
   "cell_type": "code",
   "execution_count": null,
   "metadata": {},
   "outputs": [],
   "source": [
    "RDF::Writer.open(\"./files/MarkWilkinson.nt\") { |writer| writer << repo }\n",
    "\n",
    "puts `cat ./files/MarkWilkinson.nt`\n"
   ]
  },
  {
   "cell_type": "markdown",
   "metadata": {},
   "source": [
    "\n",
    "# THAT's ALL!\n"
   ]
  }
 ],
 "metadata": {
  "kernelspec": {
   "display_name": "Ruby 2.5.1",
   "language": "ruby",
   "name": "ruby"
  },
  "language_info": {
   "file_extension": ".rb",
   "mimetype": "application/x-ruby",
   "name": "ruby",
   "version": "2.5.1"
  }
 },
 "nbformat": 4,
 "nbformat_minor": 2
}
