{
 "cells": [
  {
   "cell_type": "code",
   "execution_count": 28,
   "metadata": {},
   "outputs": [
    {
     "name": "stdout",
     "output_type": "stream",
     "text": [
      "DONE\n"
     ]
    }
   ],
   "source": [
    "require 'net/http' \n",
    "require 'bio'\n",
    "\n",
    "def fetch(uri_str)  # this \"fetch\" routine does some basic error-handling.  \n",
    "  address = URI(uri_str)  \n",
    "  response = Net::HTTP.get_response(address)\n",
    "  case response   # the \"case\" block allows you to test various conditions... it is like an \"if\", but cleaner!\n",
    "    when Net::HTTPSuccess then  # when response is of type Net::HTTPSuccess\n",
    "      return response  # return that response object\n",
    "    else\n",
    "      raise Exception, \"Something went wrong... the call to #{uri_str} failed; type #{response.class}\"\n",
    "      response = false\n",
    "      return response  # now we are returning False\n",
    "    end\n",
    "end\n",
    "  \n",
    "genes = File.open('./files/short_gene_list.txt', 'r')\n",
    "genearray = genes.read.split() # this will read each line into an array\n",
    "genes.close\n",
    "  \n",
    "fastaoutput = File.open('./files/genes.fa', 'w')\n",
    "\n",
    "genearray.each do |geneid|\n",
    "  \n",
    "  url = \"http://www.ebi.ac.uk/Tools/dbfetch/dbfetch?db=ensemblgenomesgene&format=fasta&id=#{geneid}\"\n",
    "  res = fetch(url)  # we really should check that the return value is valid, but... \n",
    "  fastafile = Bio::FlatFile.new(Bio::FastaFormat, StringIO.new(res.body))\n",
    "  fastafile.each_entry do |fasta|\n",
    "    naseq = fasta.to_biosequence\n",
    "    fastaoutput.puts naseq.output_fasta(geneid)\n",
    "  end\n",
    "end\n",
    "puts \"DONE\""
   ]
  },
  {
   "cell_type": "markdown",
   "metadata": {},
   "source": [
    "## now look at your FASTA file again - Much better!\n",
    "\n",
    "You can now index that FASTA file for BLAST exactly as you did with the Ebola\n",
    "\n",
    "When you search that database, the <code>hit.hit_id</code> will give you the AGI Locus Code, instead of \"4\", \"5\", ....\n",
    "\n",
    "\n",
    "Please do this now, and make sure it is working correctly."
   ]
  }
 ],
 "metadata": {
  "kernelspec": {
   "display_name": "Ruby 2.4.2",
   "language": "ruby",
   "name": "ruby"
  },
  "language_info": {
   "file_extension": ".rb",
   "mimetype": "application/x-ruby",
   "name": "ruby",
   "version": "2.4.2"
  }
 },
 "nbformat": 4,
 "nbformat_minor": 2
}
