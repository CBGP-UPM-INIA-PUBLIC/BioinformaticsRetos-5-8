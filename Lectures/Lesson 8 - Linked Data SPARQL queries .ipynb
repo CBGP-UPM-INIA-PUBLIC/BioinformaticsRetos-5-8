{
 "cells": [
  {
   "cell_type": "markdown",
   "metadata": {},
   "source": [
    "# Linked Data\n",
    "\n",
    "Switch to the slide deck on [Google Slides](https://docs.google.com/presentation/d/1STNxE0C_1XPFYw4WKs2UoCPzN44vRKT83VU4zQC0Wvc/)\n",
    "\n",
    "<pre>\n",
    "\n",
    "\n",
    "</pre>\n",
    "\n",
    "\n",
    "We are now using the **SPARQL Kernel for Jupyter Notebooks**.  [Look at the documentation](https://github.com/paulovn/sparql-kernel) to understand the \"magic instructions\" ('%')\n",
    "\n",
    "<pre>\n",
    "\n",
    "\n",
    "</pre>\n",
    "\n"
   ]
  },
  {
   "cell_type": "code",
   "execution_count": null,
   "metadata": {},
   "outputs": [],
   "source": [
    "%endpoint https://sparql.uniprot.org/sparql\n",
    "%format JSON\n",
    "\n",
    "PREFIX  ids:  <http://identifiers.org/ncbigene/>\n",
    "\n",
    "SELECT ?label\n",
    "\n",
    "WHERE {  \n",
    "   ?s ?p ids:672 .\n",
    "    ?s rdfs:label ?label\n",
    "}\n"
   ]
  },
  {
   "cell_type": "code",
   "execution_count": null,
   "metadata": {},
   "outputs": [],
   "source": [
    "%endpoint https://sparql.uniprot.org/sparql\n",
    "%format JSON\n",
    "\n",
    "PREFIX up:<http://purl.uniprot.org/core/> \n",
    "PREFIX foaf:<http://xmlns.com/foaf/0.1/>\n",
    "\n",
    "SELECT ?name ?image\n",
    "WHERE {\n",
    "       ?taxon    foaf:depiction  ?image .\n",
    "       ?taxon    up:scientificName   ?name .\n",
    "       FILTER(CONTAINS(?name, \"Antirrhinum majus\"))\n",
    "} LIMIT 10\n"
   ]
  }
 ],
 "metadata": {
  "kernelspec": {
   "display_name": "SPARQL",
   "language": "sparql",
   "name": "sparql"
  },
  "language_info": {
   "codemirror_mode": {
    "name": "sparql"
   },
   "mimetype": "application/sparql-query",
   "name": "sparql",
   "pygments_lexer": "sparql-nb"
  }
 },
 "nbformat": 4,
 "nbformat_minor": 2
}
