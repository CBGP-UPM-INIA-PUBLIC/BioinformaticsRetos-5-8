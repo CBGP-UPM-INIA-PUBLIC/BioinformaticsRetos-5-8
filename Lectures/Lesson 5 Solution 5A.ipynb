{
 "cells": [
  {
   "cell_type": "markdown",
   "metadata": {},
   "source": [
    "# Solution  5A\n"
   ]
  },
  {
   "cell_type": "code",
   "execution_count": null,
   "metadata": {},
   "outputs": [],
   "source": [
    "require 'rest-client'   # this is how you access the Web\n",
    "require 'gene_ontology'  # the gem for gene ontology obo files\n",
    "\n",
    "# puts Dir.pwd   # this is how you discover what folder you are in...\n",
    "    \n",
    "res = RestClient.get('http://www.geneontology.org/ontology/subsets/goslim_plant.obo');\n",
    "  \n",
    "body = res.body  # get the \"body\" of the response\n",
    "File.open('geneontology.obo', 'w') do |myfile|  \n",
    "    myfile.puts body \n",
    "end  \n",
    "\n",
    "  \n",
    "go = GeneOntology.new.from_file(\"geneontology.obo\")\n",
    "#puts go.header # => a GeneOntology::Header object\n",
    "#puts go.id_to_term # => a hash from GO id to the GeneOntology::Term\n",
    "  \n",
    "term = go.id_to_term['GO:0005634']   # GO 5634 is the term for \"nucleus\"\n",
    "\n",
    "#puts term.public_methods  # all of the methods that a term can respond to.  Two of these are \"id\" and \"xref\"\n",
    "puts \"cross-references for #{term.id} are #{term.xref}\""
   ]
  },
  {
   "cell_type": "code",
   "execution_count": null,
   "metadata": {},
   "outputs": [],
   "source": []
  }
 ],
 "metadata": {
  "kernelspec": {
   "display_name": "Ruby 2.5.1",
   "language": "ruby",
   "name": "ruby"
  },
  "language_info": {
   "file_extension": ".rb",
   "mimetype": "application/x-ruby",
   "name": "ruby",
   "version": "2.5.1"
  }
 },
 "nbformat": 4,
 "nbformat_minor": 2
}
